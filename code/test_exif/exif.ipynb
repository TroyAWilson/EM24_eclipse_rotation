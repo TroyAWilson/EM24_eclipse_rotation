{
 "cells": [
  {
   "cell_type": "code",
   "execution_count": 48,
   "id": "86bf1e0c-908d-4d81-a504-9e80537abfe3",
   "metadata": {},
   "outputs": [],
   "source": [
    "import subprocess\n",
    "import json\n",
    "import os\n",
    "import csv\n",
    "from sunpy.time import parse_time\n",
    "from timezonefinder import TimezoneFinder\n",
    "import pytz\n",
    "from datetime import datetime, timedelta"
   ]
  },
  {
   "cell_type": "code",
   "execution_count": 6,
   "id": "252b1a50-8248-4d2c-9fc5-d28931661fa7",
   "metadata": {},
   "outputs": [],
   "source": [
    "def read_exif(file_path):\n",
    "    path = 'exiftool-12.98_64/exiftool-12.98_64/exiftool'\n",
    "    results = subprocess.run([path, '-json', file_path], stdout=subprocess.PIPE, stderr=subprocess.PIPE, text=True)\n",
    "    \n",
    "    if results.returncode != 0:\n",
    "        print(f\"Error reading EXIF data: {results.stderr}\")\n",
    "        return None\n",
    "    \n",
    "    exif_data = json.loads(results.stdout)\n",
    "    return exif_data[0]['DateTimeOriginal'] #this value is a string"
   ]
  },
  {
   "cell_type": "code",
   "execution_count": 36,
   "id": "d5fbe580-7e64-4864-9b4a-0107c72741d0",
   "metadata": {},
   "outputs": [],
   "source": [
    "def reset():\n",
    "    '''\n",
    "        Wipe file and reset the headers\n",
    "    '''\n",
    "    with open('data_w_times.csv', mode='w', newline='') as file:\n",
    "        csv_writer = csv.writer(file)\n",
    "        csv_writer.writerow(['Folder', 'FileName', 'Latitude', 'Longitude', 'LocalTime'])\n",
    "        \n",
    "def addToCSV(user_id, file_name, lat, lon, time):\n",
    "    '''\n",
    "        Add row of information to the CSV file\n",
    "    '''\n",
    "    with open('data_w_times.csv', mode='a', newline='') as file:\n",
    "        csv_writer = csv.writer(file)\n",
    "        csv_writer.writerow([user_id, file_name, lat, lon, time])\n",
    "    \n",
    "# reset()"
   ]
  },
  {
   "cell_type": "code",
   "execution_count": 25,
   "id": "dfc6419b-17c8-4885-8c82-ca8b8cd8dfa0",
   "metadata": {},
   "outputs": [],
   "source": [
    "def readCSV(user):\n",
    "    '''\n",
    "        Read the data.csv file and get the lat, lon, and time stored there\n",
    "        user<string>: name of the user ID associated with the upload\n",
    "    '''\n",
    "    with open('../data.csv', mode='r') as file:\n",
    "        csv_reader = csv.reader(file)\n",
    "        for row in csv_reader:\n",
    "            if row[0] == user:\n",
    "                return float(row[1]), float(row[2])\n",
    "    return False"
   ]
  },
  {
   "cell_type": "code",
   "execution_count": 45,
   "id": "b579c2be-8699-48a9-ae20-f9f2f81a33f1",
   "metadata": {},
   "outputs": [
    {
     "name": "stdout",
     "output_type": "stream",
     "text": [
      "R_32LU6pKyipqNvLD\n",
      "R_7jGQA5ayN3PAhaf\n",
      "R_5dhtl8su64RaocV\n",
      "R_7k6XR4OEpKYEnDH\n",
      "R_5lFYtlCG2wujlAl\n",
      "R_2eJ8rlmbu9gZfGx\n",
      "R_2eJITUgec9aZ3tT\n",
      "R_5DdR4Wt0OJop3EJ\n",
      "R_7Pc9Yj1CmydXAMu\n",
      "R_1Jbdw0E8TUxdKWM\n",
      "R_1zdrnQVQUkXDHOV\n",
      "R_7MlFvQlgFdmd7bE\n",
      "R_2L07kIwcnXtVMd6\n",
      "R_2S2dEePywJi8GwM\n",
      "R_7ZJcSLE1ZxoMGtP\n",
      "R_5SzojpZwnCWabx7\n",
      "R_3rZCcwsix3oIlBH\n",
      "R_6YucibykX0bINI5\n",
      "R_2rVr5UeXwodCGdR\n",
      "R_39nNvR4eAMvamwA\n",
      "R_1opy0w14H2UMh1p\n",
      "R_3QJppz1FmWGTrJV\n"
     ]
    }
   ],
   "source": [
    "folder = '../../24_images'\n",
    "users = os.listdir(folder)\n",
    "users.remove('.ipynb_checkpoints')\n",
    "\n",
    "for user in users:\n",
    "    print(user)\n",
    "    lat, lon = readCSV(user)\n",
    "    files = os.listdir(folder + '/' + user)\n",
    "    for file in files:\n",
    "        try:\n",
    "            full_path = os.path.join(folder, user, file)\n",
    "            time = read_exif(full_path)\n",
    "            time = time.replace(' ', 'T').replace(':','-',2)\n",
    "            time = parse_time(time)\n",
    "            addToCSV(user, file, lat, lon, time)\n",
    "        except:\n",
    "            print(f'ERROR w/ file {full_path}:')  "
   ]
  },
  {
   "cell_type": "code",
   "execution_count": 51,
   "id": "dabd4f2e-4fbf-4259-b326-cab12722ad5e",
   "metadata": {},
   "outputs": [],
   "source": [
    "#CODE FOR GETTING UTC\n",
    "\n",
    "\n",
    "# def getTimezone(lat, lon):\n",
    "#     tf = TimezoneFinder()\n",
    "#     return tf.timezone_at(lng=lon, lat=lat)\n",
    "\n",
    "# def convert_to_utc(local_time_str, timezone_str):\n",
    "#     local_time = datetime.strptime(local_time_str, '%Y-%m-%dT%H:%M:%S.%f')\n",
    "#     local_tz = pytz.timezone(timezone_str)\n",
    "#     local_dt = local_tz.localize(local_time)\n",
    "#     utc_dt = local_dt.astimezone(pytz.utc)\n",
    "#     return utc_dt.strftime('%Y-%m-%dT%H:%M:%S.%fZ')\n",
    "\n",
    "# with open('data_w_times.csv', newline='') as csvfile:\n",
    "#     reader = csv.DictReader(csvfile)\n",
    "#     rows = list(reader)\n",
    "\n",
    "# with open('data_w_times.csv', 'w', newline='') as csvfile:\n",
    "#     fieldnames = reader.fieldnames + ['UTC']\n",
    "#     writer = csv.DictWriter(csvfile, fieldnames=fieldnames)\n",
    "#     writer.writeheader()\n",
    "\n",
    "#     for row in rows:\n",
    "#         latitude = float(row['Latitude'])\n",
    "#         longitude = float(row['Longitude'])\n",
    "#         local_time = row['LocalTime']\n",
    "        \n",
    "#         timezone = getTimezone(latitude, longitude)\n",
    "#         if timezone:\n",
    "#             utc_time = convert_to_utc(local_time, timezone)\n",
    "#             row['UTC'] = utc_time\n",
    "#         else:\n",
    "#             row['UTC'] = 'Unknown'\n",
    "        \n",
    "#         writer.writerow(row)"
   ]
  },
  {
   "cell_type": "code",
   "execution_count": null,
   "id": "8a4dda45-a427-4c57-b2b5-17312d5ae92e",
   "metadata": {},
   "outputs": [],
   "source": []
  }
 ],
 "metadata": {
  "kernelspec": {
   "display_name": ".venv",
   "language": "python",
   "name": ".venv"
  },
  "language_info": {
   "codemirror_mode": {
    "name": "ipython",
    "version": 3
   },
   "file_extension": ".py",
   "mimetype": "text/x-python",
   "name": "python",
   "nbconvert_exporter": "python",
   "pygments_lexer": "ipython3",
   "version": "3.11.0"
  }
 },
 "nbformat": 4,
 "nbformat_minor": 5
}
